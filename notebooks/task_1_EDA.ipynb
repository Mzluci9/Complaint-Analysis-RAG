{
 "cells": [
  {
   "cell_type": "code",
   "execution_count": 7,
   "id": "66b1e828",
   "metadata": {},
   "outputs": [
    {
     "name": "stdout",
     "output_type": "stream",
     "text": [
      "Collecting seaborn\n",
      "  Using cached seaborn-0.13.2-py3-none-any.whl.metadata (5.4 kB)\n",
      "Collecting matplotlib\n",
      "  Using cached matplotlib-3.10.3-cp313-cp313-win_amd64.whl.metadata (11 kB)\n",
      "Requirement already satisfied: pandas in c:\\users\\hp\\10 acadamy projects\\new folder (6)\\complaint-analysis-rag\\.venv\\lib\\site-packages (2.3.0)\n",
      "Requirement already satisfied: numpy!=1.24.0,>=1.20 in c:\\users\\hp\\10 acadamy projects\\new folder (6)\\complaint-analysis-rag\\.venv\\lib\\site-packages (from seaborn) (2.3.1)\n",
      "Collecting contourpy>=1.0.1 (from matplotlib)\n",
      "  Using cached contourpy-1.3.2-cp313-cp313-win_amd64.whl.metadata (5.5 kB)\n",
      "Collecting cycler>=0.10 (from matplotlib)\n",
      "  Using cached cycler-0.12.1-py3-none-any.whl.metadata (3.8 kB)\n",
      "Collecting fonttools>=4.22.0 (from matplotlib)\n",
      "  Using cached fonttools-4.58.4-cp313-cp313-win_amd64.whl.metadata (108 kB)\n",
      "Collecting kiwisolver>=1.3.1 (from matplotlib)\n",
      "  Using cached kiwisolver-1.4.8-cp313-cp313-win_amd64.whl.metadata (6.3 kB)\n",
      "Requirement already satisfied: packaging>=20.0 in c:\\users\\hp\\10 acadamy projects\\new folder (6)\\complaint-analysis-rag\\.venv\\lib\\site-packages (from matplotlib) (24.2)\n",
      "Requirement already satisfied: pillow>=8 in c:\\users\\hp\\10 acadamy projects\\new folder (6)\\complaint-analysis-rag\\.venv\\lib\\site-packages (from matplotlib) (11.3.0)\n",
      "Collecting pyparsing>=2.3.1 (from matplotlib)\n",
      "  Using cached pyparsing-3.2.3-py3-none-any.whl.metadata (5.0 kB)\n",
      "Requirement already satisfied: python-dateutil>=2.7 in c:\\users\\hp\\10 acadamy projects\\new folder (6)\\complaint-analysis-rag\\.venv\\lib\\site-packages (from matplotlib) (2.9.0.post0)\n",
      "Requirement already satisfied: pytz>=2020.1 in c:\\users\\hp\\10 acadamy projects\\new folder (6)\\complaint-analysis-rag\\.venv\\lib\\site-packages (from pandas) (2025.2)\n",
      "Requirement already satisfied: tzdata>=2022.7 in c:\\users\\hp\\10 acadamy projects\\new folder (6)\\complaint-analysis-rag\\.venv\\lib\\site-packages (from pandas) (2025.2)\n",
      "Requirement already satisfied: six>=1.5 in c:\\users\\hp\\10 acadamy projects\\new folder (6)\\complaint-analysis-rag\\.venv\\lib\\site-packages (from python-dateutil>=2.7->matplotlib) (1.17.0)\n",
      "Using cached seaborn-0.13.2-py3-none-any.whl (294 kB)\n",
      "Using cached matplotlib-3.10.3-cp313-cp313-win_amd64.whl (8.1 MB)\n",
      "Using cached contourpy-1.3.2-cp313-cp313-win_amd64.whl (223 kB)\n",
      "Using cached cycler-0.12.1-py3-none-any.whl (8.3 kB)\n",
      "Using cached fonttools-4.58.4-cp313-cp313-win_amd64.whl (2.2 MB)\n",
      "Using cached kiwisolver-1.4.8-cp313-cp313-win_amd64.whl (71 kB)\n",
      "Using cached pyparsing-3.2.3-py3-none-any.whl (111 kB)\n",
      "Installing collected packages: pyparsing, kiwisolver, fonttools, cycler, contourpy, matplotlib, seaborn\n",
      "\n",
      "   ---------------------------------------- 0/7 [pyparsing]\n",
      "   ---------------------------------------- 0/7 [pyparsing]\n",
      "   ----------- ---------------------------- 2/7 [fonttools]\n",
      "   ----------- ---------------------------- 2/7 [fonttools]\n",
      "   ----------- ---------------------------- 2/7 [fonttools]\n",
      "   ----------- ---------------------------- 2/7 [fonttools]\n",
      "   ----------- ---------------------------- 2/7 [fonttools]\n",
      "   ----------- ---------------------------- 2/7 [fonttools]\n",
      "   ----------- ---------------------------- 2/7 [fonttools]\n",
      "   ----------- ---------------------------- 2/7 [fonttools]\n",
      "   ----------- ---------------------------- 2/7 [fonttools]\n",
      "   ----------- ---------------------------- 2/7 [fonttools]\n",
      "   ----------- ---------------------------- 2/7 [fonttools]\n",
      "   ----------- ---------------------------- 2/7 [fonttools]\n",
      "   ----------- ---------------------------- 2/7 [fonttools]\n",
      "   ----------- ---------------------------- 2/7 [fonttools]\n",
      "   ----------- ---------------------------- 2/7 [fonttools]\n",
      "   ----------- ---------------------------- 2/7 [fonttools]\n",
      "   ----------- ---------------------------- 2/7 [fonttools]\n",
      "   ----------- ---------------------------- 2/7 [fonttools]\n",
      "   ----------- ---------------------------- 2/7 [fonttools]\n",
      "   ----------- ---------------------------- 2/7 [fonttools]\n",
      "   ----------- ---------------------------- 2/7 [fonttools]\n",
      "   ----------- ---------------------------- 2/7 [fonttools]\n",
      "   ----------- ---------------------------- 2/7 [fonttools]\n",
      "   ----------- ---------------------------- 2/7 [fonttools]\n",
      "   ----------- ---------------------------- 2/7 [fonttools]\n",
      "   ----------- ---------------------------- 2/7 [fonttools]\n",
      "   ----------- ---------------------------- 2/7 [fonttools]\n",
      "   ----------- ---------------------------- 2/7 [fonttools]\n",
      "   ----------- ---------------------------- 2/7 [fonttools]\n",
      "   ----------- ---------------------------- 2/7 [fonttools]\n",
      "   ----------- ---------------------------- 2/7 [fonttools]\n",
      "   ----------- ---------------------------- 2/7 [fonttools]\n",
      "   ----------- ---------------------------- 2/7 [fonttools]\n",
      "   ----------- ---------------------------- 2/7 [fonttools]\n",
      "   ----------- ---------------------------- 2/7 [fonttools]\n",
      "   ----------- ---------------------------- 2/7 [fonttools]\n",
      "   ----------- ---------------------------- 2/7 [fonttools]\n",
      "   ---------------------- ----------------- 4/7 [contourpy]\n",
      "   ---------------------- ----------------- 4/7 [contourpy]\n",
      "   ---------------------------- ----------- 5/7 [matplotlib]\n",
      "   ---------------------------- ----------- 5/7 [matplotlib]\n",
      "   ---------------------------- ----------- 5/7 [matplotlib]\n",
      "   ---------------------------- ----------- 5/7 [matplotlib]\n",
      "   ---------------------------- ----------- 5/7 [matplotlib]\n",
      "   ---------------------------- ----------- 5/7 [matplotlib]\n",
      "   ---------------------------- ----------- 5/7 [matplotlib]\n",
      "   ---------------------------- ----------- 5/7 [matplotlib]\n",
      "   ---------------------------- ----------- 5/7 [matplotlib]\n",
      "   ---------------------------- ----------- 5/7 [matplotlib]\n",
      "   ---------------------------- ----------- 5/7 [matplotlib]\n",
      "   ---------------------------- ----------- 5/7 [matplotlib]\n",
      "   ---------------------------- ----------- 5/7 [matplotlib]\n",
      "   ---------------------------- ----------- 5/7 [matplotlib]\n",
      "   ---------------------------- ----------- 5/7 [matplotlib]\n",
      "   ---------------------------- ----------- 5/7 [matplotlib]\n",
      "   ---------------------------- ----------- 5/7 [matplotlib]\n",
      "   ---------------------------- ----------- 5/7 [matplotlib]\n",
      "   ---------------------------- ----------- 5/7 [matplotlib]\n",
      "   ---------------------------- ----------- 5/7 [matplotlib]\n",
      "   ---------------------------- ----------- 5/7 [matplotlib]\n",
      "   ---------------------------- ----------- 5/7 [matplotlib]\n",
      "   ---------------------------- ----------- 5/7 [matplotlib]\n",
      "   ---------------------------- ----------- 5/7 [matplotlib]\n",
      "   ---------------------------- ----------- 5/7 [matplotlib]\n",
      "   ---------------------------- ----------- 5/7 [matplotlib]\n",
      "   ---------------------------- ----------- 5/7 [matplotlib]\n",
      "   ---------------------------- ----------- 5/7 [matplotlib]\n",
      "   ---------------------------- ----------- 5/7 [matplotlib]\n",
      "   ---------------------------- ----------- 5/7 [matplotlib]\n",
      "   ---------------------------- ----------- 5/7 [matplotlib]\n",
      "   ---------------------------- ----------- 5/7 [matplotlib]\n",
      "   ---------------------------- ----------- 5/7 [matplotlib]\n",
      "   ---------------------------- ----------- 5/7 [matplotlib]\n",
      "   ---------------------------- ----------- 5/7 [matplotlib]\n",
      "   ---------------------------- ----------- 5/7 [matplotlib]\n",
      "   ---------------------------- ----------- 5/7 [matplotlib]\n",
      "   ---------------------------- ----------- 5/7 [matplotlib]\n",
      "   ---------------------------- ----------- 5/7 [matplotlib]\n",
      "   ---------------------------- ----------- 5/7 [matplotlib]\n",
      "   ---------------------------- ----------- 5/7 [matplotlib]\n",
      "   ---------------------------- ----------- 5/7 [matplotlib]\n",
      "   ---------------------------- ----------- 5/7 [matplotlib]\n",
      "   ---------------------------- ----------- 5/7 [matplotlib]\n",
      "   ---------------------------- ----------- 5/7 [matplotlib]\n",
      "   ---------------------------------- ----- 6/7 [seaborn]\n",
      "   ---------------------------------- ----- 6/7 [seaborn]\n",
      "   ---------------------------------- ----- 6/7 [seaborn]\n",
      "   ---------------------------------- ----- 6/7 [seaborn]\n",
      "   ---------------------------------- ----- 6/7 [seaborn]\n",
      "   ---------------------------------- ----- 6/7 [seaborn]\n",
      "   ---------------------------------- ----- 6/7 [seaborn]\n",
      "   ---------------------------------------- 7/7 [seaborn]\n",
      "\n",
      "Successfully installed contourpy-1.3.2 cycler-0.12.1 fonttools-4.58.4 kiwisolver-1.4.8 matplotlib-3.10.3 pyparsing-3.2.3 seaborn-0.13.2\n"
     ]
    }
   ],
   "source": [
    "\n",
    "!pip install seaborn matplotlib pandas"
   ]
  },
  {
   "cell_type": "code",
   "execution_count": 13,
   "id": "84e99ea8",
   "metadata": {},
   "outputs": [],
   "source": [
    "import seaborn as sns\n",
    "import matplotlib.pyplot as plt\n",
    "import pandas as pd\n",
    "import re\n",
    "import os"
   ]
  },
  {
   "cell_type": "markdown",
   "id": "6729e78f",
   "metadata": {},
   "source": [
    "# Load and Define the Complaint Dataset"
   ]
  },
  {
   "cell_type": "code",
   "execution_count": 4,
   "id": "76f3e1df",
   "metadata": {},
   "outputs": [
    {
     "name": "stderr",
     "output_type": "stream",
     "text": [
      "C:\\Users\\HP\\AppData\\Local\\Temp\\ipykernel_12596\\2666754274.py:1: DtypeWarning: Columns (16) have mixed types. Specify dtype option on import or set low_memory=False.\n",
      "  df = pd.read_csv('C:/Users/HP//10 Acadamy PRojects/New folder (6)/Complaint-Analysis-RAG/data/complaints.csv')\n"
     ]
    },
    {
     "name": "stdout",
     "output_type": "stream",
     "text": [
      "Dataset Info:\n",
      "<class 'pandas.core.frame.DataFrame'>\n",
      "RangeIndex: 9609797 entries, 0 to 9609796\n",
      "Data columns (total 18 columns):\n",
      " #   Column                        Dtype \n",
      "---  ------                        ----- \n",
      " 0   Date received                 object\n",
      " 1   Product                       object\n",
      " 2   Sub-product                   object\n",
      " 3   Issue                         object\n",
      " 4   Sub-issue                     object\n",
      " 5   Consumer complaint narrative  object\n",
      " 6   Company public response       object\n",
      " 7   Company                       object\n",
      " 8   State                         object\n",
      " 9   ZIP code                      object\n",
      " 10  Tags                          object\n",
      " 11  Consumer consent provided?    object\n",
      " 12  Submitted via                 object\n",
      " 13  Date sent to company          object\n",
      " 14  Company response to consumer  object\n",
      " 15  Timely response?              object\n",
      " 16  Consumer disputed?            object\n",
      " 17  Complaint ID                  int64 \n",
      "dtypes: int64(1), object(17)\n",
      "memory usage: 1.3+ GB\n",
      "None\n",
      "\n",
      "First 5 rows:\n",
      "  Date received                                            Product  \\\n",
      "0    2025-06-20  Credit reporting or other personal consumer re...   \n",
      "1    2025-06-20                                    Debt collection   \n",
      "2    2025-06-20  Credit reporting or other personal consumer re...   \n",
      "3    2025-06-20  Credit reporting or other personal consumer re...   \n",
      "4    2025-06-20  Credit reporting or other personal consumer re...   \n",
      "\n",
      "               Sub-product                                 Issue  \\\n",
      "0         Credit reporting  Incorrect information on your report   \n",
      "1  Telecommunications debt     Attempts to collect debt not owed   \n",
      "2         Credit reporting           Improper use of your report   \n",
      "3         Credit reporting           Improper use of your report   \n",
      "4         Credit reporting  Incorrect information on your report   \n",
      "\n",
      "                                       Sub-issue Consumer complaint narrative  \\\n",
      "0            Information belongs to someone else                          NaN   \n",
      "1                              Debt is not yours                          NaN   \n",
      "2  Reporting company used your report improperly                          NaN   \n",
      "3  Reporting company used your report improperly                          NaN   \n",
      "4                       Account status incorrect                          NaN   \n",
      "\n",
      "                             Company public response  \\\n",
      "0                                                NaN   \n",
      "1  Company can't verify or dispute the facts in t...   \n",
      "2                                                NaN   \n",
      "3                                                NaN   \n",
      "4                                                NaN   \n",
      "\n",
      "                                        Company State ZIP code Tags  \\\n",
      "0           Experian Information Solutions Inc.    FL    32092  NaN   \n",
      "1  Eastern Account Systems of Connecticut, Inc.    FL    342XX  NaN   \n",
      "2        TRANSUNION INTERMEDIATE HOLDINGS, INC.    AZ    85225  NaN   \n",
      "3           Experian Information Solutions Inc.    AZ    85225  NaN   \n",
      "4           Experian Information Solutions Inc.    IL    60628  NaN   \n",
      "\n",
      "  Consumer consent provided? Submitted via Date sent to company  \\\n",
      "0                        NaN           Web           2025-06-20   \n",
      "1                        NaN           Web           2025-06-20   \n",
      "2                        NaN           Web           2025-06-20   \n",
      "3                        NaN           Web           2025-06-20   \n",
      "4                        NaN           Web           2025-06-20   \n",
      "\n",
      "  Company response to consumer Timely response? Consumer disputed?  \\\n",
      "0                  In progress              Yes                NaN   \n",
      "1      Closed with explanation              Yes                NaN   \n",
      "2                  In progress              Yes                NaN   \n",
      "3                  In progress              Yes                NaN   \n",
      "4                  In progress              Yes                NaN   \n",
      "\n",
      "   Complaint ID  \n",
      "0      14195687  \n",
      "1      14195688  \n",
      "2      14195689  \n",
      "3      14195690  \n",
      "4      14195692  \n"
     ]
    }
   ],
   "source": [
    "df = pd.read_csv('C:/Users/HP//10 Acadamy PRojects/New folder (6)/Complaint-Analysis-RAG/data/complaints.csv')\n",
    "\n",
    "# Display basic info about the dataset\n",
    "print(\"Dataset Info:\")\n",
    "print(df.info())\n",
    "print(\"\\nFirst 5 rows:\")\n",
    "print(df.head())"
   ]
  },
  {
   "cell_type": "code",
   "execution_count": 5,
   "id": "e008343c",
   "metadata": {},
   "outputs": [
    {
     "data": {
      "application/vnd.microsoft.datawrangler.viewer.v0+json": {
       "columns": [
        {
         "name": "index",
         "rawType": "int64",
         "type": "integer"
        },
        {
         "name": "Date received",
         "rawType": "object",
         "type": "string"
        },
        {
         "name": "Product",
         "rawType": "object",
         "type": "string"
        },
        {
         "name": "Sub-product",
         "rawType": "object",
         "type": "string"
        },
        {
         "name": "Issue",
         "rawType": "object",
         "type": "string"
        },
        {
         "name": "Sub-issue",
         "rawType": "object",
         "type": "string"
        },
        {
         "name": "Consumer complaint narrative",
         "rawType": "object",
         "type": "unknown"
        },
        {
         "name": "Company public response",
         "rawType": "object",
         "type": "unknown"
        },
        {
         "name": "Company",
         "rawType": "object",
         "type": "string"
        },
        {
         "name": "State",
         "rawType": "object",
         "type": "string"
        },
        {
         "name": "ZIP code",
         "rawType": "object",
         "type": "string"
        },
        {
         "name": "Tags",
         "rawType": "object",
         "type": "unknown"
        },
        {
         "name": "Consumer consent provided?",
         "rawType": "object",
         "type": "unknown"
        },
        {
         "name": "Submitted via",
         "rawType": "object",
         "type": "string"
        },
        {
         "name": "Date sent to company",
         "rawType": "object",
         "type": "string"
        },
        {
         "name": "Company response to consumer",
         "rawType": "object",
         "type": "string"
        },
        {
         "name": "Timely response?",
         "rawType": "object",
         "type": "string"
        },
        {
         "name": "Consumer disputed?",
         "rawType": "object",
         "type": "unknown"
        },
        {
         "name": "Complaint ID",
         "rawType": "int64",
         "type": "integer"
        }
       ],
       "ref": "06c9eaf7-cc32-4d59-b626-e351f01eacae",
       "rows": [
        [
         "0",
         "2025-06-20",
         "Credit reporting or other personal consumer reports",
         "Credit reporting",
         "Incorrect information on your report",
         "Information belongs to someone else",
         null,
         null,
         "Experian Information Solutions Inc.",
         "FL",
         "32092",
         null,
         null,
         "Web",
         "2025-06-20",
         "In progress",
         "Yes",
         null,
         "14195687"
        ],
        [
         "1",
         "2025-06-20",
         "Debt collection",
         "Telecommunications debt",
         "Attempts to collect debt not owed",
         "Debt is not yours",
         null,
         "Company can't verify or dispute the facts in the complaint",
         "Eastern Account Systems of Connecticut, Inc.",
         "FL",
         "342XX",
         null,
         null,
         "Web",
         "2025-06-20",
         "Closed with explanation",
         "Yes",
         null,
         "14195688"
        ],
        [
         "2",
         "2025-06-20",
         "Credit reporting or other personal consumer reports",
         "Credit reporting",
         "Improper use of your report",
         "Reporting company used your report improperly",
         null,
         null,
         "TRANSUNION INTERMEDIATE HOLDINGS, INC.",
         "AZ",
         "85225",
         null,
         null,
         "Web",
         "2025-06-20",
         "In progress",
         "Yes",
         null,
         "14195689"
        ],
        [
         "3",
         "2025-06-20",
         "Credit reporting or other personal consumer reports",
         "Credit reporting",
         "Improper use of your report",
         "Reporting company used your report improperly",
         null,
         null,
         "Experian Information Solutions Inc.",
         "AZ",
         "85225",
         null,
         null,
         "Web",
         "2025-06-20",
         "In progress",
         "Yes",
         null,
         "14195690"
        ],
        [
         "4",
         "2025-06-20",
         "Credit reporting or other personal consumer reports",
         "Credit reporting",
         "Incorrect information on your report",
         "Account status incorrect",
         null,
         null,
         "Experian Information Solutions Inc.",
         "IL",
         "60628",
         null,
         null,
         "Web",
         "2025-06-20",
         "In progress",
         "Yes",
         null,
         "14195692"
        ]
       ],
       "shape": {
        "columns": 18,
        "rows": 5
       }
      },
      "text/html": [
       "<div>\n",
       "<style scoped>\n",
       "    .dataframe tbody tr th:only-of-type {\n",
       "        vertical-align: middle;\n",
       "    }\n",
       "\n",
       "    .dataframe tbody tr th {\n",
       "        vertical-align: top;\n",
       "    }\n",
       "\n",
       "    .dataframe thead th {\n",
       "        text-align: right;\n",
       "    }\n",
       "</style>\n",
       "<table border=\"1\" class=\"dataframe\">\n",
       "  <thead>\n",
       "    <tr style=\"text-align: right;\">\n",
       "      <th></th>\n",
       "      <th>Date received</th>\n",
       "      <th>Product</th>\n",
       "      <th>Sub-product</th>\n",
       "      <th>Issue</th>\n",
       "      <th>Sub-issue</th>\n",
       "      <th>Consumer complaint narrative</th>\n",
       "      <th>Company public response</th>\n",
       "      <th>Company</th>\n",
       "      <th>State</th>\n",
       "      <th>ZIP code</th>\n",
       "      <th>Tags</th>\n",
       "      <th>Consumer consent provided?</th>\n",
       "      <th>Submitted via</th>\n",
       "      <th>Date sent to company</th>\n",
       "      <th>Company response to consumer</th>\n",
       "      <th>Timely response?</th>\n",
       "      <th>Consumer disputed?</th>\n",
       "      <th>Complaint ID</th>\n",
       "    </tr>\n",
       "  </thead>\n",
       "  <tbody>\n",
       "    <tr>\n",
       "      <th>0</th>\n",
       "      <td>2025-06-20</td>\n",
       "      <td>Credit reporting or other personal consumer re...</td>\n",
       "      <td>Credit reporting</td>\n",
       "      <td>Incorrect information on your report</td>\n",
       "      <td>Information belongs to someone else</td>\n",
       "      <td>NaN</td>\n",
       "      <td>NaN</td>\n",
       "      <td>Experian Information Solutions Inc.</td>\n",
       "      <td>FL</td>\n",
       "      <td>32092</td>\n",
       "      <td>NaN</td>\n",
       "      <td>NaN</td>\n",
       "      <td>Web</td>\n",
       "      <td>2025-06-20</td>\n",
       "      <td>In progress</td>\n",
       "      <td>Yes</td>\n",
       "      <td>NaN</td>\n",
       "      <td>14195687</td>\n",
       "    </tr>\n",
       "    <tr>\n",
       "      <th>1</th>\n",
       "      <td>2025-06-20</td>\n",
       "      <td>Debt collection</td>\n",
       "      <td>Telecommunications debt</td>\n",
       "      <td>Attempts to collect debt not owed</td>\n",
       "      <td>Debt is not yours</td>\n",
       "      <td>NaN</td>\n",
       "      <td>Company can't verify or dispute the facts in t...</td>\n",
       "      <td>Eastern Account Systems of Connecticut, Inc.</td>\n",
       "      <td>FL</td>\n",
       "      <td>342XX</td>\n",
       "      <td>NaN</td>\n",
       "      <td>NaN</td>\n",
       "      <td>Web</td>\n",
       "      <td>2025-06-20</td>\n",
       "      <td>Closed with explanation</td>\n",
       "      <td>Yes</td>\n",
       "      <td>NaN</td>\n",
       "      <td>14195688</td>\n",
       "    </tr>\n",
       "    <tr>\n",
       "      <th>2</th>\n",
       "      <td>2025-06-20</td>\n",
       "      <td>Credit reporting or other personal consumer re...</td>\n",
       "      <td>Credit reporting</td>\n",
       "      <td>Improper use of your report</td>\n",
       "      <td>Reporting company used your report improperly</td>\n",
       "      <td>NaN</td>\n",
       "      <td>NaN</td>\n",
       "      <td>TRANSUNION INTERMEDIATE HOLDINGS, INC.</td>\n",
       "      <td>AZ</td>\n",
       "      <td>85225</td>\n",
       "      <td>NaN</td>\n",
       "      <td>NaN</td>\n",
       "      <td>Web</td>\n",
       "      <td>2025-06-20</td>\n",
       "      <td>In progress</td>\n",
       "      <td>Yes</td>\n",
       "      <td>NaN</td>\n",
       "      <td>14195689</td>\n",
       "    </tr>\n",
       "    <tr>\n",
       "      <th>3</th>\n",
       "      <td>2025-06-20</td>\n",
       "      <td>Credit reporting or other personal consumer re...</td>\n",
       "      <td>Credit reporting</td>\n",
       "      <td>Improper use of your report</td>\n",
       "      <td>Reporting company used your report improperly</td>\n",
       "      <td>NaN</td>\n",
       "      <td>NaN</td>\n",
       "      <td>Experian Information Solutions Inc.</td>\n",
       "      <td>AZ</td>\n",
       "      <td>85225</td>\n",
       "      <td>NaN</td>\n",
       "      <td>NaN</td>\n",
       "      <td>Web</td>\n",
       "      <td>2025-06-20</td>\n",
       "      <td>In progress</td>\n",
       "      <td>Yes</td>\n",
       "      <td>NaN</td>\n",
       "      <td>14195690</td>\n",
       "    </tr>\n",
       "    <tr>\n",
       "      <th>4</th>\n",
       "      <td>2025-06-20</td>\n",
       "      <td>Credit reporting or other personal consumer re...</td>\n",
       "      <td>Credit reporting</td>\n",
       "      <td>Incorrect information on your report</td>\n",
       "      <td>Account status incorrect</td>\n",
       "      <td>NaN</td>\n",
       "      <td>NaN</td>\n",
       "      <td>Experian Information Solutions Inc.</td>\n",
       "      <td>IL</td>\n",
       "      <td>60628</td>\n",
       "      <td>NaN</td>\n",
       "      <td>NaN</td>\n",
       "      <td>Web</td>\n",
       "      <td>2025-06-20</td>\n",
       "      <td>In progress</td>\n",
       "      <td>Yes</td>\n",
       "      <td>NaN</td>\n",
       "      <td>14195692</td>\n",
       "    </tr>\n",
       "  </tbody>\n",
       "</table>\n",
       "</div>"
      ],
      "text/plain": [
       "  Date received                                            Product  \\\n",
       "0    2025-06-20  Credit reporting or other personal consumer re...   \n",
       "1    2025-06-20                                    Debt collection   \n",
       "2    2025-06-20  Credit reporting or other personal consumer re...   \n",
       "3    2025-06-20  Credit reporting or other personal consumer re...   \n",
       "4    2025-06-20  Credit reporting or other personal consumer re...   \n",
       "\n",
       "               Sub-product                                 Issue  \\\n",
       "0         Credit reporting  Incorrect information on your report   \n",
       "1  Telecommunications debt     Attempts to collect debt not owed   \n",
       "2         Credit reporting           Improper use of your report   \n",
       "3         Credit reporting           Improper use of your report   \n",
       "4         Credit reporting  Incorrect information on your report   \n",
       "\n",
       "                                       Sub-issue Consumer complaint narrative  \\\n",
       "0            Information belongs to someone else                          NaN   \n",
       "1                              Debt is not yours                          NaN   \n",
       "2  Reporting company used your report improperly                          NaN   \n",
       "3  Reporting company used your report improperly                          NaN   \n",
       "4                       Account status incorrect                          NaN   \n",
       "\n",
       "                             Company public response  \\\n",
       "0                                                NaN   \n",
       "1  Company can't verify or dispute the facts in t...   \n",
       "2                                                NaN   \n",
       "3                                                NaN   \n",
       "4                                                NaN   \n",
       "\n",
       "                                        Company State ZIP code Tags  \\\n",
       "0           Experian Information Solutions Inc.    FL    32092  NaN   \n",
       "1  Eastern Account Systems of Connecticut, Inc.    FL    342XX  NaN   \n",
       "2        TRANSUNION INTERMEDIATE HOLDINGS, INC.    AZ    85225  NaN   \n",
       "3           Experian Information Solutions Inc.    AZ    85225  NaN   \n",
       "4           Experian Information Solutions Inc.    IL    60628  NaN   \n",
       "\n",
       "  Consumer consent provided? Submitted via Date sent to company  \\\n",
       "0                        NaN           Web           2025-06-20   \n",
       "1                        NaN           Web           2025-06-20   \n",
       "2                        NaN           Web           2025-06-20   \n",
       "3                        NaN           Web           2025-06-20   \n",
       "4                        NaN           Web           2025-06-20   \n",
       "\n",
       "  Company response to consumer Timely response? Consumer disputed?  \\\n",
       "0                  In progress              Yes                NaN   \n",
       "1      Closed with explanation              Yes                NaN   \n",
       "2                  In progress              Yes                NaN   \n",
       "3                  In progress              Yes                NaN   \n",
       "4                  In progress              Yes                NaN   \n",
       "\n",
       "   Complaint ID  \n",
       "0      14195687  \n",
       "1      14195688  \n",
       "2      14195689  \n",
       "3      14195690  \n",
       "4      14195692  "
      ]
     },
     "execution_count": 5,
     "metadata": {},
     "output_type": "execute_result"
    }
   ],
   "source": [
    "df.head()"
   ]
  },
  {
   "cell_type": "markdown",
   "id": "ab79dad7",
   "metadata": {},
   "source": [
    " # EDA"
   ]
  },
  {
   "cell_type": "code",
   "execution_count": 6,
   "id": "035ba7d4",
   "metadata": {},
   "outputs": [
    {
     "name": "stdout",
     "output_type": "stream",
     "text": [
      "\n",
      "Dataset Shape: (9609797, 18)\n",
      "\n",
      "Missing Values:\n",
      "Date received                         0\n",
      "Product                               0\n",
      "Sub-product                      235295\n",
      "Issue                                 6\n",
      "Sub-issue                        839522\n",
      "Consumer complaint narrative    6629041\n",
      "Company public response         4770207\n",
      "Company                               0\n",
      "State                             54516\n",
      "ZIP code                          30228\n",
      "Tags                            8981029\n",
      "Consumer consent provided?      1649561\n",
      "Submitted via                         0\n",
      "Date sent to company                  0\n",
      "Company response to consumer         20\n",
      "Timely response?                      0\n",
      "Consumer disputed?              8841498\n",
      "Complaint ID                          0\n",
      "dtype: int64\n",
      "\n",
      "Unique Products:\n",
      "['Credit reporting or other personal consumer reports' 'Debt collection'\n",
      " 'Credit card' 'Checking or savings account'\n",
      " 'Money transfer, virtual currency, or money service'\n",
      " 'Vehicle loan or lease' 'Debt or credit management' 'Mortgage'\n",
      " 'Payday loan, title loan, personal loan, or advance loan' 'Prepaid card'\n",
      " 'Student loan' 'Credit reporting'\n",
      " 'Credit reporting, credit repair services, or other personal consumer reports'\n",
      " 'Credit card or prepaid card' 'Payday loan, title loan, or personal loan'\n",
      " 'Bank account or service' 'Money transfers' 'Consumer Loan' 'Payday loan'\n",
      " 'Other financial service' 'Virtual currency']\n"
     ]
    }
   ],
   "source": [
    "\n",
    "print(\"\\nDataset Shape:\", df.shape)\n",
    "print(\"\\nMissing Values:\")\n",
    "print(df.isnull().sum())\n",
    "print(\"\\nUnique Products:\")\n",
    "print(df['Product'].unique())"
   ]
  },
  {
   "cell_type": "markdown",
   "id": "2b5e3767",
   "metadata": {},
   "source": [
    "# Distribution of Complaints Across Products"
   ]
  },
  {
   "cell_type": "code",
   "execution_count": 7,
   "id": "3803639b",
   "metadata": {},
   "outputs": [
    {
     "data": {
      "image/png": "[encoded data removed]",
      "text/plain": [
       "<Figure size 1000x600 with 1 Axes>"
      ]
     },
     "metadata": {},
     "output_type": "display_data"
    },
    {
     "name": "stdout",
     "output_type": "stream",
     "text": [
      "\n",
      "Complaint Counts by Product:\n",
      "Product\n",
      "Credit reporting or other personal consumer reports                             4834855\n",
      "Credit reporting, credit repair services, or other personal consumer reports    2163857\n",
      "Debt collection                                                                  799197\n",
      "Mortgage                                                                         422254\n",
      "Checking or savings account                                                      291178\n",
      "Credit card                                                                      226686\n",
      "Credit card or prepaid card                                                      206369\n",
      "Money transfer, virtual currency, or money service                               145066\n",
      "Credit reporting                                                                 140429\n",
      "Student loan                                                                     109717\n",
      "Bank account or service                                                           86205\n",
      "Vehicle loan or lease                                                             72957\n",
      "Consumer Loan                                                                     31574\n",
      "Payday loan, title loan, or personal loan                                         30641\n",
      "Payday loan, title loan, personal loan, or advance loan                           16514\n",
      "Prepaid card                                                                      15280\n",
      "Payday loan                                                                        5541\n",
      "Money transfers                                                                    5354\n",
      "Debt or credit management                                                          5047\n",
      "Other financial service                                                            1058\n",
      "Virtual currency                                                                     18\n",
      "Name: count, dtype: int64\n"
     ]
    }
   ],
   "source": [
    "product_counts = df['Product'].value_counts()\n",
    "plt.figure(figsize=(10, 6))\n",
    "sns.barplot(x=product_counts.values, y=product_counts.index)\n",
    "plt.title('Distribution of Complaints by Product')\n",
    "plt.xlabel('Number of Complaints')\n",
    "plt.ylabel('Product')\n",
    "plt.tight_layout()\n",
    "plt.savefig('product_distribution.png')  # Save for report\n",
    "plt.show()\n",
    "print(\"\\nComplaint Counts by Product:\")\n",
    "print(product_counts)"
   ]
  },
  {
   "cell_type": "markdown",
   "id": "5d7991b4",
   "metadata": {},
   "source": [
    "# Calculate and Visualize Narrative Lengths"
   ]
  },
  {
   "cell_type": "code",
   "execution_count": 8,
   "id": "00150b28",
   "metadata": {},
   "outputs": [
    {
     "name": "stdout",
     "output_type": "stream",
     "text": [
      "\n",
      "Narrative Length Summary:\n",
      "count    9.609797e+06\n",
      "mean     5.446667e+01\n",
      "std      1.497672e+02\n",
      "min      0.000000e+00\n",
      "25%      0.000000e+00\n",
      "50%      0.000000e+00\n",
      "75%      5.000000e+01\n",
      "max      6.469000e+03\n",
      "Name: narrative_length, dtype: float64\n"
     ]
    },
    {
     "data": {
      "image/png": "[encoded data removed]",
      "text/plain": [
       "<Figure size 1000x600 with 1 Axes>"
      ]
     },
     "metadata": {},
     "output_type": "display_data"
    }
   ],
   "source": [
    "# Step 4: Narrative length analysis\n",
    "df['narrative_length'] = df['Consumer complaint narrative'].apply(\n",
    "    lambda x: len(str(x).split()) if pd.notnull(x) else 0\n",
    ")\n",
    "print(\"\\nNarrative Length Summary:\")\n",
    "print(df['narrative_length'].describe())\n",
    "plt.figure(figsize=(10, 6))\n",
    "sns.histplot(df['narrative_length'], bins=50)\n",
    "plt.title('Distribution of Complaint Narrative Lengths (Word Count)')\n",
    "plt.xlabel('Word Count')\n",
    "plt.ylabel('Frequency')\n",
    "plt.tight_layout()\n",
    "plt.savefig('narrative_length_histogram.png')  # Save for report\n",
    "plt.show()"
   ]
  },
  {
   "cell_type": "markdown",
   "id": "507b7a4f",
   "metadata": {},
   "source": [
    "# Identify Complaints With and Without Narratives"
   ]
  },
  {
   "cell_type": "code",
   "execution_count": 9,
   "id": "199c5394",
   "metadata": {},
   "outputs": [
    {
     "name": "stdout",
     "output_type": "stream",
     "text": [
      "\n",
      "Complaints with/without Narratives:\n",
      "With Narrative: 2980756\n",
      "Without Narrative: 6629041\n"
     ]
    }
   ],
   "source": [
    "narrative_counts = df['Consumer complaint narrative'].notnull().value_counts()\n",
    "print(\"\\nComplaints with/without Narratives:\")\n",
    "print(f\"With Narrative: {narrative_counts[True]}\")\n",
    "print(f\"Without Narrative: {narrative_counts[False]}\")"
   ]
  },
  {
   "cell_type": "markdown",
   "id": "eb6695ee",
   "metadata": {},
   "source": [
    "# Filter the Dataset for Specified Products"
   ]
  },
  {
   "cell_type": "code",
   "execution_count": 10,
   "id": "2bacc06a",
   "metadata": {},
   "outputs": [
    {
     "name": "stdout",
     "output_type": "stream",
     "text": [
      "\n",
      "Filtered Dataset Shape: (958923, 20)\n",
      "\n",
      "Products in Filtered Dataset:\n",
      "['Credit Card' 'Savings Account' 'Money Transfers'\n",
      " 'Buy Now, Pay Later (BNPL)' 'Personal Loan']\n"
     ]
    }
   ],
   "source": [
    "# Step 6: Filter for specified products\n",
    "# Map dataset product names to challenge categories\n",
    "product_mapping = {\n",
    "    'Credit card': 'Credit Card',\n",
    "    'Credit card or prepaid card': 'Credit Card',\n",
    "    'Checking or savings account': 'Savings Account',\n",
    "    'Money transfer, virtual currency, or money service': 'Money Transfers',\n",
    "    'Money transfers': 'Money Transfers',\n",
    "    'Payday loan, title loan, or personal loan': 'Personal Loan',\n",
    "    'Consumer Loan': 'Personal Loan',\n",
    "    'Payday loan, title loan, personal loan, or advance loan': 'Buy Now, Pay Later (BNPL)',\n",
    "    'Payday loan': 'Personal Loan'\n",
    "}\n",
    "df['mapped_product'] = df['Product'].map(product_mapping)\n",
    "# Filter for the five target products\n",
    "target_products = ['Credit Card', 'Personal Loan', 'Buy Now, Pay Later (BNPL)', \n",
    "                   'Savings Account', 'Money Transfers']\n",
    "df_filtered = df[df['mapped_product'].isin(target_products)]\n",
    "print(\"\\nFiltered Dataset Shape:\", df_filtered.shape)\n",
    "print(\"\\nProducts in Filtered Dataset:\")\n",
    "print(df_filtered['mapped_product'].unique())"
   ]
  },
  {
   "cell_type": "markdown",
   "id": "647a4591",
   "metadata": {},
   "source": [
    "# Remove Records with Empty Narratives"
   ]
  },
  {
   "cell_type": "code",
   "execution_count": 11,
   "id": "2e36cbd3",
   "metadata": {},
   "outputs": [
    {
     "name": "stdout",
     "output_type": "stream",
     "text": [
      "\n",
      "Shape after removing empty narratives: (465679, 20)\n",
      "\n",
      "Missing narratives in filtered dataset:\n",
      "0\n"
     ]
    }
   ],
   "source": [
    "# Step 7: Remove empty narratives\n",
    "df_filtered = df_filtered[df_filtered['Consumer complaint narrative'].notnull()]\n",
    "print(\"\\nShape after removing empty narratives:\", df_filtered.shape)\n",
    "print(\"\\nMissing narratives in filtered dataset:\")\n",
    "print(df_filtered['Consumer complaint narrative'].isnull().sum())"
   ]
  },
  {
   "cell_type": "markdown",
   "id": "8095df7f",
   "metadata": {},
   "source": [
    "# Clean Text Narratives and Save the Preprocessed Dataset"
   ]
  },
  {
   "cell_type": "code",
   "execution_count": 15,
   "id": "70c62d8c",
   "metadata": {},
   "outputs": [
    {
     "name": "stdout",
     "output_type": "stream",
     "text": [
      "\n",
      "Sample Cleaned Narratives:\n",
      "                            Consumer complaint narrative  \\\n",
      "12237  A XXXX XXXX card was opened under my name by a...   \n",
      "12532  I made the mistake of using my wellsfargo debi...   \n",
      "13280  Dear CFPB, I have a secured credit card with c...   \n",
      "13506  I have a Citi rewards cards. The credit balanc...   \n",
      "13955  b'I am writing to dispute the following charge...   \n",
      "14249  Although the account had been deemed closed, I...   \n",
      "14562  Got locked out of my account because I was try...   \n",
      "14591  I was trying to log into my account and it wou...   \n",
      "15740  I received an email in XXXX from my XXXX XXXX ...   \n",
      "16239  under Idaho state law28-46-413. PAYDAY LOAN BU...   \n",
      "\n",
      "                                       cleaned_narrative  \n",
      "12237  a card was opened under my name by a fraudster...  \n",
      "12532  i made the mistake of using my wellsfargo debi...  \n",
      "13280  i have a secured credit card with citibank whi...  \n",
      "13506  i have a citi rewards cards the credit balance...  \n",
      "13955  b the following charges on my citi credit card...  \n",
      "14249  although the account had been deemed closed i ...  \n",
      "14562  got locked out of my account because i was try...  \n",
      "14591  i was trying to log into my account and it wou...  \n",
      "15740  i received an email in from my saying that i w...  \n",
      "16239  under idaho state law2846413 payday loan busin...  \n",
      "\n",
      "Preprocessed dataset saved in the 'data' folder.\n"
     ]
    }
   ],
   "source": [
    "def clean_text(text):\n",
    "    # Convert to lowercase\n",
    "    text = text.lower()\n",
    "    # Remove special characters\n",
    "    text = re.sub(r'[^a-z0-9\\s]', '', text)\n",
    "    # Remove redacted placeholders (e.g., xxxx)\n",
    "    text = re.sub(r'\\bxxxx\\b', '', text)\n",
    "    # Remove boilerplate phrases\n",
    "    boilerplate = [\n",
    "        'i am writing to file a complaint',\n",
    "        'please help',\n",
    "        'this is regarding my account',\n",
    "        'dear cfpb',\n",
    "        'i am writing to dispute'\n",
    "    ]\n",
    "    for phrase in boilerplate:\n",
    "        text = text.replace(phrase, '')\n",
    "    # Remove extra whitespace\n",
    "    text = ' '.join(text.split())\n",
    "    return text\n",
    "\n",
    "df_filtered['cleaned_narrative'] = df_filtered['Consumer complaint narrative'].apply(clean_text)\n",
    "print(\"\\nSample Cleaned Narratives:\")\n",
    "print(df_filtered[['Consumer complaint narrative', 'cleaned_narrative']].head(10))  # Check more rows\n",
    "\n",
    "# Step 10: Save preprocessed dataset\n",
    "save_path = r'C:\\Users\\HP\\10 Acadamy PRojects\\New folder (6)\\Complaint-Analysis-RAG\\data'\n",
    "os.makedirs(save_path, exist_ok=True)\n",
    "df_filtered.to_csv(os.path.join(save_path, 'preprocessed_complaints.csv'), index=False)\n",
    "print(\"\\nPreprocessed dataset saved in the 'data' folder.\")"
   ]
  },
  {
   "cell_type": "markdown",
   "id": "23ed67ec",
   "metadata": {},
   "source": []
  },
  {
   "cell_type": "code",
   "execution_count": null,
   "id": "df0d2b22",
   "metadata": {},
   "outputs": [],
   "source": []
  },
  {
   "cell_type": "code",
   "execution_count": null,
   "id": "2ef73e47",
   "metadata": {},
   "outputs": [],
   "source": []
  }
 ],
 "metadata": {
  "kernelspec": {
   "display_name": ".venv",
   "language": "python",
   "name": "python3"
  },
  "language_info": {
   "codemirror_mode": {
    "name": "ipython",
    "version": 3
   },
   "file_extension": ".py",
   "mimetype": "text/x-python",
   "name": "python",
   "nbconvert_exporter": "python",
   "pygments_lexer": "ipython3",
   "version": "3.13.4"
  }
 },
 "nbformat": 4,
 "nbformat_minor": 5
}
